{
 "cells": [
  {
   "cell_type": "code",
   "execution_count": 25,
   "metadata": {},
   "outputs": [],
   "source": [
    "import pandas as pd\n"
   ]
  },
  {
   "cell_type": "markdown",
   "metadata": {},
   "source": [
    "# Desafios Aula 1"
   ]
  },
  {
   "cell_type": "markdown",
   "metadata": {},
   "source": [
    "## Projeto desafio 1: vendas online\n",
    "\n",
    "O objetivo desse projeto é realizar uma análise dos resultados de um evento com os clientes de uma empresa de vendas online. Foi coletado um conjunto de dados que contém os clientes que mais gastaram com produtos dentro de 5 dias de vendas, que é o período de duração do evento. Essa análise vai identificar o cliente com a maior compra na semana, que irá receber um prêmio da loja, e posteriormente, ela pode ajudar a empresa a criar novas estratégias para atrair mais clientes.\n",
    "\n",
    "A base de dados utilizada nessa análise é a `dados_vendas_clientes.json` e contém informações importantes sobre os clientes como, o nome de cadastro do cliente, o valor total pago na compra e o dia da compra.\n",
    "\n",
    "Sabendo essas informações, o desafio do projeto 1: vendas online **será abrir a base de dados com Pandas e aplicar o `json_normalize`**."
   ]
  },
  {
   "cell_type": "code",
   "execution_count": 26,
   "metadata": {},
   "outputs": [
    {
     "data": {
      "text/html": [
       "<div>\n",
       "<style scoped>\n",
       "    .dataframe tbody tr th:only-of-type {\n",
       "        vertical-align: middle;\n",
       "    }\n",
       "\n",
       "    .dataframe tbody tr th {\n",
       "        vertical-align: top;\n",
       "    }\n",
       "\n",
       "    .dataframe thead th {\n",
       "        text-align: right;\n",
       "    }\n",
       "</style>\n",
       "<table border=\"1\" class=\"dataframe\">\n",
       "  <thead>\n",
       "    <tr style=\"text-align: right;\">\n",
       "      <th></th>\n",
       "      <th>dados_vendas</th>\n",
       "    </tr>\n",
       "  </thead>\n",
       "  <tbody>\n",
       "    <tr>\n",
       "      <th>0</th>\n",
       "      <td>{'Data de venda': '06/06/2022', 'Cliente': ['@...</td>\n",
       "    </tr>\n",
       "    <tr>\n",
       "      <th>1</th>\n",
       "      <td>{'Data de venda': '07/06/2022', 'Cliente': ['I...</td>\n",
       "    </tr>\n",
       "    <tr>\n",
       "      <th>2</th>\n",
       "      <td>{'Data de venda': '08/06/2022', 'Cliente': ['I...</td>\n",
       "    </tr>\n",
       "    <tr>\n",
       "      <th>3</th>\n",
       "      <td>{'Data de venda': '09/06/2022', 'Cliente': ['J...</td>\n",
       "    </tr>\n",
       "    <tr>\n",
       "      <th>4</th>\n",
       "      <td>{'Data de venda': '10/06/2022', 'Cliente': ['M...</td>\n",
       "    </tr>\n",
       "  </tbody>\n",
       "</table>\n",
       "</div>"
      ],
      "text/plain": [
       "                                        dados_vendas\n",
       "0  {'Data de venda': '06/06/2022', 'Cliente': ['@...\n",
       "1  {'Data de venda': '07/06/2022', 'Cliente': ['I...\n",
       "2  {'Data de venda': '08/06/2022', 'Cliente': ['I...\n",
       "3  {'Data de venda': '09/06/2022', 'Cliente': ['J...\n",
       "4  {'Data de venda': '10/06/2022', 'Cliente': ['M..."
      ]
     },
     "execution_count": 26,
     "metadata": {},
     "output_type": "execute_result"
    }
   ],
   "source": [
    "vendas_clientes = pd.read_json('in/dados_vendas_clientes.json')\n",
    "vendas_clientes.head()\n"
   ]
  },
  {
   "cell_type": "code",
   "execution_count": 27,
   "metadata": {},
   "outputs": [
    {
     "data": {
      "text/html": [
       "<div>\n",
       "<style scoped>\n",
       "    .dataframe tbody tr th:only-of-type {\n",
       "        vertical-align: middle;\n",
       "    }\n",
       "\n",
       "    .dataframe tbody tr th {\n",
       "        vertical-align: top;\n",
       "    }\n",
       "\n",
       "    .dataframe thead th {\n",
       "        text-align: right;\n",
       "    }\n",
       "</style>\n",
       "<table border=\"1\" class=\"dataframe\">\n",
       "  <thead>\n",
       "    <tr style=\"text-align: right;\">\n",
       "      <th></th>\n",
       "      <th>Data de venda</th>\n",
       "      <th>Cliente</th>\n",
       "      <th>Valor da compra</th>\n",
       "    </tr>\n",
       "  </thead>\n",
       "  <tbody>\n",
       "    <tr>\n",
       "      <th>0</th>\n",
       "      <td>06/06/2022</td>\n",
       "      <td>[@ANA _LUCIA 321, DieGO ARMANDIU 210, DieGO AR...</td>\n",
       "      <td>[R$ 836,5, R$ 573,33, R$ 392,8, R$ 512,34]</td>\n",
       "    </tr>\n",
       "    <tr>\n",
       "      <th>1</th>\n",
       "      <td>07/06/2022</td>\n",
       "      <td>[Isabely JOanes 738, Isabely JOanes 738, Isabe...</td>\n",
       "      <td>[R$ 825,31, R$ 168,07, R$ 339,18, R$ 314,69]</td>\n",
       "    </tr>\n",
       "    <tr>\n",
       "      <th>2</th>\n",
       "      <td>08/06/2022</td>\n",
       "      <td>[Isabely JOanes 738, JOãO Gabriel 671, Julya m...</td>\n",
       "      <td>[R$ 682,05, R$ 386,34, R$ 622,65, R$ 630,79]</td>\n",
       "    </tr>\n",
       "    <tr>\n",
       "      <th>3</th>\n",
       "      <td>09/06/2022</td>\n",
       "      <td>[Julya meireles 914, MaRIA Julia 444, MaRIA Ju...</td>\n",
       "      <td>[R$ 390,3, R$ 759,16, R$ 334,47, R$ 678,78]</td>\n",
       "    </tr>\n",
       "    <tr>\n",
       "      <th>4</th>\n",
       "      <td>10/06/2022</td>\n",
       "      <td>[MaRIA Julia 444, PEDRO PASCO 812, Paulo castr...</td>\n",
       "      <td>[R$ 314,24, R$ 311,15, R$ 899,16, R$ 885,24]</td>\n",
       "    </tr>\n",
       "  </tbody>\n",
       "</table>\n",
       "</div>"
      ],
      "text/plain": [
       "  Data de venda                                            Cliente  \\\n",
       "0    06/06/2022  [@ANA _LUCIA 321, DieGO ARMANDIU 210, DieGO AR...   \n",
       "1    07/06/2022  [Isabely JOanes 738, Isabely JOanes 738, Isabe...   \n",
       "2    08/06/2022  [Isabely JOanes 738, JOãO Gabriel 671, Julya m...   \n",
       "3    09/06/2022  [Julya meireles 914, MaRIA Julia 444, MaRIA Ju...   \n",
       "4    10/06/2022  [MaRIA Julia 444, PEDRO PASCO 812, Paulo castr...   \n",
       "\n",
       "                                Valor da compra  \n",
       "0    [R$ 836,5, R$ 573,33, R$ 392,8, R$ 512,34]  \n",
       "1  [R$ 825,31, R$ 168,07, R$ 339,18, R$ 314,69]  \n",
       "2  [R$ 682,05, R$ 386,34, R$ 622,65, R$ 630,79]  \n",
       "3   [R$ 390,3, R$ 759,16, R$ 334,47, R$ 678,78]  \n",
       "4  [R$ 314,24, R$ 311,15, R$ 899,16, R$ 885,24]  "
      ]
     },
     "execution_count": 27,
     "metadata": {},
     "output_type": "execute_result"
    }
   ],
   "source": [
    "vendas_clientes_norm = pd.json_normalize(vendas_clientes['dados_vendas'])\n",
    "vendas_clientes_norm.head()\n"
   ]
  },
  {
   "cell_type": "markdown",
   "metadata": {},
   "source": [
    "## Projeto desafio 2: administração de condomínios\n",
    "\n",
    "A administração de condomínios é uma tarefa que requer muita atenção e organização. Entre as diversas responsabilidades da gestão está o recebimento dos aluguéis dos locatários. Para garantir uma boa saúde financeira do empreendimento, é fundamental que esses pagamentos sejam feitos de forma regular e pontual. No entanto, sabemos que nem sempre isso acontece.\n",
    "\n",
    "Pensando nisso, proponho um desafio de tratamento de dados com o objetivo de analisar o atraso no pagamento de aluguéis no condomínio de alguns moradores. Disponibilizo a base de dados `dados_locacao_imoveis.json`, que contém informações sobre o apartamento dos locatários, o dia acordado para o pagamento do aluguel, o dia da efetivação do pagamento de aluguel e o valor do aluguel.\n",
    "\n",
    "Com essas informações, o desafio do projeto 2: administração de condomínios será similar ao desafio do projeto 1, **abrir a base de dados com Pandas e aplicar o `json_normalize` no DataFrame**."
   ]
  },
  {
   "cell_type": "code",
   "execution_count": 28,
   "metadata": {},
   "outputs": [
    {
     "data": {
      "text/html": [
       "<div>\n",
       "<style scoped>\n",
       "    .dataframe tbody tr th:only-of-type {\n",
       "        vertical-align: middle;\n",
       "    }\n",
       "\n",
       "    .dataframe tbody tr th {\n",
       "        vertical-align: top;\n",
       "    }\n",
       "\n",
       "    .dataframe thead th {\n",
       "        text-align: right;\n",
       "    }\n",
       "</style>\n",
       "<table border=\"1\" class=\"dataframe\">\n",
       "  <thead>\n",
       "    <tr style=\"text-align: right;\">\n",
       "      <th></th>\n",
       "      <th>dados_locacao</th>\n",
       "    </tr>\n",
       "  </thead>\n",
       "  <tbody>\n",
       "    <tr>\n",
       "      <th>0</th>\n",
       "      <td>{'apartamento': 'A101 (blocoAP)', 'datas_combi...</td>\n",
       "    </tr>\n",
       "    <tr>\n",
       "      <th>1</th>\n",
       "      <td>{'apartamento': 'A102 (blocoAP)', 'datas_combi...</td>\n",
       "    </tr>\n",
       "    <tr>\n",
       "      <th>2</th>\n",
       "      <td>{'apartamento': 'B201 (blocoAP)', 'datas_combi...</td>\n",
       "    </tr>\n",
       "    <tr>\n",
       "      <th>3</th>\n",
       "      <td>{'apartamento': 'B202 (blocoAP)', 'datas_combi...</td>\n",
       "    </tr>\n",
       "    <tr>\n",
       "      <th>4</th>\n",
       "      <td>{'apartamento': 'C301 (blocoAP)', 'datas_combi...</td>\n",
       "    </tr>\n",
       "  </tbody>\n",
       "</table>\n",
       "</div>"
      ],
      "text/plain": [
       "                                       dados_locacao\n",
       "0  {'apartamento': 'A101 (blocoAP)', 'datas_combi...\n",
       "1  {'apartamento': 'A102 (blocoAP)', 'datas_combi...\n",
       "2  {'apartamento': 'B201 (blocoAP)', 'datas_combi...\n",
       "3  {'apartamento': 'B202 (blocoAP)', 'datas_combi...\n",
       "4  {'apartamento': 'C301 (blocoAP)', 'datas_combi..."
      ]
     },
     "execution_count": 28,
     "metadata": {},
     "output_type": "execute_result"
    }
   ],
   "source": [
    "locacao_imoveis = pd.read_json('in/dados_locacao_imoveis.json')\n",
    "locacao_imoveis.head()\n"
   ]
  },
  {
   "cell_type": "code",
   "execution_count": 29,
   "metadata": {},
   "outputs": [
    {
     "data": {
      "text/html": [
       "<div>\n",
       "<style scoped>\n",
       "    .dataframe tbody tr th:only-of-type {\n",
       "        vertical-align: middle;\n",
       "    }\n",
       "\n",
       "    .dataframe tbody tr th {\n",
       "        vertical-align: top;\n",
       "    }\n",
       "\n",
       "    .dataframe thead th {\n",
       "        text-align: right;\n",
       "    }\n",
       "</style>\n",
       "<table border=\"1\" class=\"dataframe\">\n",
       "  <thead>\n",
       "    <tr style=\"text-align: right;\">\n",
       "      <th></th>\n",
       "      <th>apartamento</th>\n",
       "      <th>datas_combinadas_pagamento</th>\n",
       "      <th>datas_de_pagamento</th>\n",
       "      <th>valor_aluguel</th>\n",
       "    </tr>\n",
       "  </thead>\n",
       "  <tbody>\n",
       "    <tr>\n",
       "      <th>0</th>\n",
       "      <td>A101 (blocoAP)</td>\n",
       "      <td>[01/06/2022, 01/07/2022]</td>\n",
       "      <td>[05/06/2022, 03/07/2022]</td>\n",
       "      <td>[$ 1000,0 reais, $ 2500,0 reais]</td>\n",
       "    </tr>\n",
       "    <tr>\n",
       "      <th>1</th>\n",
       "      <td>A102 (blocoAP)</td>\n",
       "      <td>[02/06/2022, 02/07/2022]</td>\n",
       "      <td>[02/06/2022, 06/07/2022]</td>\n",
       "      <td>[$ 1100,0 reais, $ 2600,0 reais]</td>\n",
       "    </tr>\n",
       "    <tr>\n",
       "      <th>2</th>\n",
       "      <td>B201 (blocoAP)</td>\n",
       "      <td>[03/06/2022, 03/07/2022]</td>\n",
       "      <td>[07/06/2022, 03/07/2022]</td>\n",
       "      <td>[$ 1200,0 reais, $ 2700,0 reais]</td>\n",
       "    </tr>\n",
       "    <tr>\n",
       "      <th>3</th>\n",
       "      <td>B202 (blocoAP)</td>\n",
       "      <td>[04/06/2022, 04/07/2022]</td>\n",
       "      <td>[07/06/2022, 05/07/2022]</td>\n",
       "      <td>[$ 1300,0 reais, $ 2800,0 reais]</td>\n",
       "    </tr>\n",
       "    <tr>\n",
       "      <th>4</th>\n",
       "      <td>C301 (blocoAP)</td>\n",
       "      <td>[05/06/2022, 05/07/2022]</td>\n",
       "      <td>[10/06/2022, 09/07/2022]</td>\n",
       "      <td>[$ 1400,0 reais, $ 2900,0 reais]</td>\n",
       "    </tr>\n",
       "  </tbody>\n",
       "</table>\n",
       "</div>"
      ],
      "text/plain": [
       "      apartamento datas_combinadas_pagamento        datas_de_pagamento  \\\n",
       "0  A101 (blocoAP)   [01/06/2022, 01/07/2022]  [05/06/2022, 03/07/2022]   \n",
       "1  A102 (blocoAP)   [02/06/2022, 02/07/2022]  [02/06/2022, 06/07/2022]   \n",
       "2  B201 (blocoAP)   [03/06/2022, 03/07/2022]  [07/06/2022, 03/07/2022]   \n",
       "3  B202 (blocoAP)   [04/06/2022, 04/07/2022]  [07/06/2022, 05/07/2022]   \n",
       "4  C301 (blocoAP)   [05/06/2022, 05/07/2022]  [10/06/2022, 09/07/2022]   \n",
       "\n",
       "                      valor_aluguel  \n",
       "0  [$ 1000,0 reais, $ 2500,0 reais]  \n",
       "1  [$ 1100,0 reais, $ 2600,0 reais]  \n",
       "2  [$ 1200,0 reais, $ 2700,0 reais]  \n",
       "3  [$ 1300,0 reais, $ 2800,0 reais]  \n",
       "4  [$ 1400,0 reais, $ 2900,0 reais]  "
      ]
     },
     "execution_count": 29,
     "metadata": {},
     "output_type": "execute_result"
    }
   ],
   "source": [
    "locacao_imoveis_norm = pd.json_normalize(locacao_imoveis['dados_locacao'])\n",
    "locacao_imoveis_norm.head()\n"
   ]
  },
  {
   "cell_type": "markdown",
   "metadata": {},
   "source": [
    "# Desafios Aula 2"
   ]
  },
  {
   "cell_type": "markdown",
   "metadata": {},
   "source": [
    "## Projeto desafio 1: vendas online\n",
    "Lemos a base de dados no desafio anterior, agora podemos avançar nas transformações desses dados. Então, o novo desafio do projeto 1 será dividido em algumas metas:\n",
    "\n",
    "- Remover os dados em listas dentro do DataFrame;\n",
    "- Verificar os tipos de dados;\n",
    "- Identificar colunas numéricas;\n",
    "- Transformar a coluna numérica para o tipo numérico."
   ]
  },
  {
   "cell_type": "code",
   "execution_count": 30,
   "metadata": {},
   "outputs": [
    {
     "data": {
      "text/html": [
       "<div>\n",
       "<style scoped>\n",
       "    .dataframe tbody tr th:only-of-type {\n",
       "        vertical-align: middle;\n",
       "    }\n",
       "\n",
       "    .dataframe tbody tr th {\n",
       "        vertical-align: top;\n",
       "    }\n",
       "\n",
       "    .dataframe thead th {\n",
       "        text-align: right;\n",
       "    }\n",
       "</style>\n",
       "<table border=\"1\" class=\"dataframe\">\n",
       "  <thead>\n",
       "    <tr style=\"text-align: right;\">\n",
       "      <th></th>\n",
       "      <th>Data de venda</th>\n",
       "      <th>Cliente</th>\n",
       "      <th>Valor da compra</th>\n",
       "    </tr>\n",
       "  </thead>\n",
       "  <tbody>\n",
       "    <tr>\n",
       "      <th>0</th>\n",
       "      <td>06/06/2022</td>\n",
       "      <td>@ANA _LUCIA 321</td>\n",
       "      <td>R$ 836,5</td>\n",
       "    </tr>\n",
       "    <tr>\n",
       "      <th>1</th>\n",
       "      <td>06/06/2022</td>\n",
       "      <td>DieGO ARMANDIU 210</td>\n",
       "      <td>R$ 573,33</td>\n",
       "    </tr>\n",
       "    <tr>\n",
       "      <th>2</th>\n",
       "      <td>06/06/2022</td>\n",
       "      <td>DieGO ARMANDIU 210</td>\n",
       "      <td>R$ 392,8</td>\n",
       "    </tr>\n",
       "    <tr>\n",
       "      <th>3</th>\n",
       "      <td>06/06/2022</td>\n",
       "      <td>DieGO ARMANDIU 210</td>\n",
       "      <td>R$ 512,34</td>\n",
       "    </tr>\n",
       "    <tr>\n",
       "      <th>4</th>\n",
       "      <td>07/06/2022</td>\n",
       "      <td>Isabely JOanes 738</td>\n",
       "      <td>R$ 825,31</td>\n",
       "    </tr>\n",
       "  </tbody>\n",
       "</table>\n",
       "</div>"
      ],
      "text/plain": [
       "  Data de venda             Cliente Valor da compra\n",
       "0    06/06/2022     @ANA _LUCIA 321        R$ 836,5\n",
       "1    06/06/2022  DieGO ARMANDIU 210       R$ 573,33\n",
       "2    06/06/2022  DieGO ARMANDIU 210        R$ 392,8\n",
       "3    06/06/2022  DieGO ARMANDIU 210       R$ 512,34\n",
       "4    07/06/2022  Isabely JOanes 738       R$ 825,31"
      ]
     },
     "execution_count": 30,
     "metadata": {},
     "output_type": "execute_result"
    }
   ],
   "source": [
    "# Remover os dados em listas dentro do DataFrame;\n",
    "\n",
    "columns = vendas_clientes_norm.columns.to_list()\n",
    "dados_vendas_clientes = vendas_clientes_norm.explode(columns[1:]).reset_index(drop=True)\n",
    "\n",
    "dados_vendas_clientes.head()\n"
   ]
  },
  {
   "cell_type": "code",
   "execution_count": 31,
   "metadata": {},
   "outputs": [
    {
     "data": {
      "text/plain": [
       "Data de venda      object\n",
       "Cliente            object\n",
       "Valor da compra    object\n",
       "dtype: object"
      ]
     },
     "execution_count": 31,
     "metadata": {},
     "output_type": "execute_result"
    }
   ],
   "source": [
    "dados_vendas_clientes.dtypes\n"
   ]
  },
  {
   "cell_type": "code",
   "execution_count": 32,
   "metadata": {},
   "outputs": [],
   "source": [
    "def transform_monetary_value(value: str) -> str:\n",
    "    return value.replace('R$ ', '').replace(',', '.')\n",
    "\n",
    "dados_vendas_clientes['Valor da compra'] = dados_vendas_clientes['Valor da compra'].apply(transform_monetary_value).astype('float64')\n"
   ]
  },
  {
   "cell_type": "code",
   "execution_count": 33,
   "metadata": {},
   "outputs": [
    {
     "name": "stdout",
     "output_type": "stream",
     "text": [
      "<class 'pandas.core.frame.DataFrame'>\n",
      "RangeIndex: 20 entries, 0 to 19\n",
      "Data columns (total 3 columns):\n",
      " #   Column           Non-Null Count  Dtype  \n",
      "---  ------           --------------  -----  \n",
      " 0   Data de venda    20 non-null     object \n",
      " 1   Cliente          20 non-null     object \n",
      " 2   Valor da compra  20 non-null     float64\n",
      "dtypes: float64(1), object(2)\n",
      "memory usage: 612.0+ bytes\n"
     ]
    }
   ],
   "source": [
    "dados_vendas_clientes.info()\n"
   ]
  },
  {
   "cell_type": "markdown",
   "metadata": {},
   "source": [
    "## Projeto desafio 2: administração de condomínios\n",
    "Lemos a base de dados no desafio anterior, agora podemos avançar nas transformações desses dados. Então, da mesma forma que o projeto 1, o desafio do projeto 2 está listado em algumas metas:\n",
    "\n",
    "- Remover os dados em listas dentro do DataFrame;\n",
    "- Verificar os tipos de dados;\n",
    "- Identificar colunas numéricas;\n",
    "- Transformar a coluna numérica para o tipo numérico.\n"
   ]
  },
  {
   "cell_type": "code",
   "execution_count": 34,
   "metadata": {},
   "outputs": [
    {
     "data": {
      "text/html": [
       "<div>\n",
       "<style scoped>\n",
       "    .dataframe tbody tr th:only-of-type {\n",
       "        vertical-align: middle;\n",
       "    }\n",
       "\n",
       "    .dataframe tbody tr th {\n",
       "        vertical-align: top;\n",
       "    }\n",
       "\n",
       "    .dataframe thead th {\n",
       "        text-align: right;\n",
       "    }\n",
       "</style>\n",
       "<table border=\"1\" class=\"dataframe\">\n",
       "  <thead>\n",
       "    <tr style=\"text-align: right;\">\n",
       "      <th></th>\n",
       "      <th>apartamento</th>\n",
       "      <th>datas_combinadas_pagamento</th>\n",
       "      <th>datas_de_pagamento</th>\n",
       "      <th>valor_aluguel</th>\n",
       "    </tr>\n",
       "  </thead>\n",
       "  <tbody>\n",
       "    <tr>\n",
       "      <th>0</th>\n",
       "      <td>A101 (blocoAP)</td>\n",
       "      <td>01/06/2022</td>\n",
       "      <td>05/06/2022</td>\n",
       "      <td>$ 1000,0 reais</td>\n",
       "    </tr>\n",
       "    <tr>\n",
       "      <th>1</th>\n",
       "      <td>A101 (blocoAP)</td>\n",
       "      <td>01/07/2022</td>\n",
       "      <td>03/07/2022</td>\n",
       "      <td>$ 2500,0 reais</td>\n",
       "    </tr>\n",
       "    <tr>\n",
       "      <th>2</th>\n",
       "      <td>A102 (blocoAP)</td>\n",
       "      <td>02/06/2022</td>\n",
       "      <td>02/06/2022</td>\n",
       "      <td>$ 1100,0 reais</td>\n",
       "    </tr>\n",
       "    <tr>\n",
       "      <th>3</th>\n",
       "      <td>A102 (blocoAP)</td>\n",
       "      <td>02/07/2022</td>\n",
       "      <td>06/07/2022</td>\n",
       "      <td>$ 2600,0 reais</td>\n",
       "    </tr>\n",
       "    <tr>\n",
       "      <th>4</th>\n",
       "      <td>B201 (blocoAP)</td>\n",
       "      <td>03/06/2022</td>\n",
       "      <td>07/06/2022</td>\n",
       "      <td>$ 1200,0 reais</td>\n",
       "    </tr>\n",
       "  </tbody>\n",
       "</table>\n",
       "</div>"
      ],
      "text/plain": [
       "      apartamento datas_combinadas_pagamento datas_de_pagamento  \\\n",
       "0  A101 (blocoAP)                 01/06/2022         05/06/2022   \n",
       "1  A101 (blocoAP)                 01/07/2022         03/07/2022   \n",
       "2  A102 (blocoAP)                 02/06/2022         02/06/2022   \n",
       "3  A102 (blocoAP)                 02/07/2022         06/07/2022   \n",
       "4  B201 (blocoAP)                 03/06/2022         07/06/2022   \n",
       "\n",
       "    valor_aluguel  \n",
       "0  $ 1000,0 reais  \n",
       "1  $ 2500,0 reais  \n",
       "2  $ 1100,0 reais  \n",
       "3  $ 2600,0 reais  \n",
       "4  $ 1200,0 reais  "
      ]
     },
     "execution_count": 34,
     "metadata": {},
     "output_type": "execute_result"
    }
   ],
   "source": [
    "columns = locacao_imoveis_norm.columns.to_list()\n",
    "dados_locacao_imoveis = locacao_imoveis_norm.explode(columns[1:]).reset_index(drop=True)\n",
    "\n",
    "dados_locacao_imoveis.head()\n"
   ]
  },
  {
   "cell_type": "code",
   "execution_count": 35,
   "metadata": {},
   "outputs": [
    {
     "data": {
      "text/plain": [
       "apartamento                   object\n",
       "datas_combinadas_pagamento    object\n",
       "datas_de_pagamento            object\n",
       "valor_aluguel                 object\n",
       "dtype: object"
      ]
     },
     "execution_count": 35,
     "metadata": {},
     "output_type": "execute_result"
    }
   ],
   "source": [
    "dados_locacao_imoveis.dtypes\n"
   ]
  },
  {
   "cell_type": "code",
   "execution_count": 36,
   "metadata": {},
   "outputs": [
    {
     "name": "stdout",
     "output_type": "stream",
     "text": [
      "<class 'pandas.core.frame.DataFrame'>\n",
      "RangeIndex: 30 entries, 0 to 29\n",
      "Data columns (total 4 columns):\n",
      " #   Column                      Non-Null Count  Dtype  \n",
      "---  ------                      --------------  -----  \n",
      " 0   apartamento                 30 non-null     object \n",
      " 1   datas_combinadas_pagamento  30 non-null     object \n",
      " 2   datas_de_pagamento          30 non-null     object \n",
      " 3   valor_aluguel               30 non-null     float64\n",
      "dtypes: float64(1), object(3)\n",
      "memory usage: 1.1+ KB\n"
     ]
    }
   ],
   "source": [
    "def transform_monetary_value(value: str) -> str:\n",
    "    return value.replace('$', '').replace(',', '.').replace('reais', '').strip()\n",
    "\n",
    "dados_locacao_imoveis['valor_aluguel'] = dados_locacao_imoveis['valor_aluguel'].apply(transform_monetary_value).astype('float64')\n",
    "dados_locacao_imoveis.info()\n"
   ]
  },
  {
   "cell_type": "markdown",
   "metadata": {},
   "source": [
    "# Desafios Aula 3"
   ]
  },
  {
   "cell_type": "markdown",
   "metadata": {},
   "source": [
    "## Projeto desafio 1: vendas online\n",
    "Na etapa 2, trabalhamos na transformação dos dados numéricos. Agora, podemos trabalhar com valores textuais.\n",
    "\n",
    "Devido a uma instabilidade no site da empresa, tivemos problemas com os nomes dos clientes durante o salvamento. Isso resultou em uma coluna de nomes de clientes com uma mistura de letras, maiúsculas e minúsculas, números e outros caracteres.\n",
    "\n",
    "Sabendo disso, manipule os textos presentes na coluna Cliente para que seja obtido como resultado os nomes dos clientes em letras minúsculas, com a ausência de caracteres especiais ou números."
   ]
  },
  {
   "cell_type": "code",
   "execution_count": 49,
   "metadata": {},
   "outputs": [
    {
     "data": {
      "text/plain": [
       "0          ana lucia\n",
       "1     diego armandiu\n",
       "2     diego armandiu\n",
       "3     diego armandiu\n",
       "4     isabely joanes\n",
       "5     isabely joanes\n",
       "6     isabely joanes\n",
       "7     isabely joanes\n",
       "8     isabely joanes\n",
       "9        joo gabriel\n",
       "10    julya meireles\n",
       "11    julya meireles\n",
       "12    julya meireles\n",
       "13       maria julia\n",
       "14       maria julia\n",
       "15       maria julia\n",
       "16       maria julia\n",
       "17       pedro pasco\n",
       "18      paulo castro\n",
       "19     thiago fritzz\n",
       "Name: Cliente, dtype: object"
      ]
     },
     "execution_count": 49,
     "metadata": {},
     "output_type": "execute_result"
    }
   ],
   "source": [
    "dados_vendas_clientes['Cliente'] = dados_vendas_clientes['Cliente']\\\n",
    "    .str.lower()\\\n",
    "    .str.replace(r'[^a-z ]', '', regex=True)\\\n",
    "    .str.strip()\n",
    "\n",
    "dados_vendas_clientes['Cliente']\n"
   ]
  },
  {
   "cell_type": "markdown",
   "metadata": {},
   "source": [
    "## Projeto desafio 2: administração de condomínios\n",
    "\n",
    "Na etapa 2, trabalhamos na transformação dos dados numéricos. Agora, podemos trabalhar com valores textuais.\n",
    "\n",
    "Buscando explicar a organização da identificação dos apartamentos, durante a criação do conjunto de dados, foi adicionado o texto (blocoAP). Esse texto informa que os nomes dos apartamentos estão organizados com a letra do bloco seguida do número do apartamento. No entanto, isso não traz nenhuma informação para nossos dados, sendo interessante realizar a remoção desse texto no conjunto de dados.\n",
    "\n",
    "Com isso, manipule os textos na coluna apartamento para remover o texto (blocoAP) do DataFrame."
   ]
  },
  {
   "cell_type": "code",
   "execution_count": 52,
   "metadata": {},
   "outputs": [
    {
     "data": {
      "text/plain": [
       "0      101\n",
       "1      101\n",
       "2      102\n",
       "3      102\n",
       "4     B201\n",
       "5     B201\n",
       "6     B202\n",
       "7     B202\n",
       "8     C301\n",
       "9     C301\n",
       "10    C302\n",
       "11    C302\n",
       "12    D401\n",
       "13    D401\n",
       "14    D402\n",
       "15    D402\n",
       "16    E501\n",
       "17    E501\n",
       "18    E502\n",
       "19    E502\n",
       "20    F601\n",
       "21    F601\n",
       "22    F602\n",
       "23    F602\n",
       "24    G701\n",
       "25    G701\n",
       "26    G702\n",
       "27    G702\n",
       "28    H801\n",
       "29    H801\n",
       "Name: apartamento, dtype: object"
      ]
     },
     "execution_count": 52,
     "metadata": {},
     "output_type": "execute_result"
    }
   ],
   "source": [
    "dados_locacao_imoveis['apartamento'] = dados_locacao_imoveis['apartamento']\\\n",
    "    .str.replace(r' \\(blocoAP\\)', '', regex=True)\n",
    "\n",
    "dados_locacao_imoveis['apartamento']\n"
   ]
  },
  {
   "cell_type": "code",
   "execution_count": null,
   "metadata": {},
   "outputs": [],
   "source": []
  }
 ],
 "metadata": {
  "kernelspec": {
   "display_name": "base",
   "language": "python",
   "name": "python3"
  },
  "language_info": {
   "codemirror_mode": {
    "name": "ipython",
    "version": 3
   },
   "file_extension": ".py",
   "mimetype": "text/x-python",
   "name": "python",
   "nbconvert_exporter": "python",
   "pygments_lexer": "ipython3",
   "version": "3.12.4"
  }
 },
 "nbformat": 4,
 "nbformat_minor": 2
}
